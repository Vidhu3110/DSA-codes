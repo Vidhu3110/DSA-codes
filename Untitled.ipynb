{
 "cells": [
  {
   "cell_type": "code",
   "execution_count": 5,
   "id": "eab5071f",
   "metadata": {},
   "outputs": [
    {
     "name": "stdout",
     "output_type": "stream",
     "text": [
      "py\n",
      "thon\n"
     ]
    }
   ],
   "source": [
    "string = \"python\"\n",
    "#string[include:exclude] if you want to start from begining then you dont need to specify include\n",
    "print(string[:2])\n",
    "\n",
    "print(string[2:])"
   ]
  },
  {
   "cell_type": "code",
   "execution_count": 37,
   "id": "367b1d9f",
   "metadata": {},
   "outputs": [
    {
     "name": "stdout",
     "output_type": "stream",
     "text": [
      "['vidhu']\n",
      "['vidhu', 5]\n",
      "enter the limit2\n",
      "enter element 1\n",
      "enter element 2\n"
     ]
    }
   ],
   "source": [
    "list1 = list()\n",
    "list2 = []\n",
    "'''list is an array in python with multiple datatypes , list is mutable(we can modify it) '''\n",
    "\n",
    "list1.append('vidhu') \n",
    "print(list1)\n",
    "list1.append(5)\n",
    "print(list1)\n",
    "\n",
    "n = int(input('enter the limit'))\n",
    "for i in range(0,n):\n",
    "    x = input('enter element ')\n",
    "    list1.append(x)\n"
   ]
  },
  {
   "cell_type": "code",
   "execution_count": 14,
   "id": "e1ca2a6f",
   "metadata": {},
   "outputs": [],
   "source": [
    "#for loop \n",
    "'''\n",
    "for iterator in range(start,end,step)\n",
    "\n",
    "\n",
    "'''\n",
    "for i in range(0,20,2):\n",
    "    list1.append(i)"
   ]
  },
  {
   "cell_type": "code",
   "execution_count": 38,
   "id": "f8884cac",
   "metadata": {},
   "outputs": [
    {
     "data": {
      "text/plain": [
       "['vidhu', 5, '1', '2']"
      ]
     },
     "execution_count": 38,
     "metadata": {},
     "output_type": "execute_result"
    }
   ],
   "source": [
    "list1"
   ]
  },
  {
   "cell_type": "code",
   "execution_count": 39,
   "id": "7fb15e0c",
   "metadata": {},
   "outputs": [],
   "source": [
    "list1.remove('vidhu')"
   ]
  },
  {
   "cell_type": "code",
   "execution_count": 40,
   "id": "2c0d5d27",
   "metadata": {},
   "outputs": [],
   "source": [
    "list1[1] = int(list1[1])"
   ]
  },
  {
   "cell_type": "code",
   "execution_count": 41,
   "id": "cb3f9b38",
   "metadata": {},
   "outputs": [
    {
     "data": {
      "text/plain": [
       "[5, 1, '2']"
      ]
     },
     "execution_count": 41,
     "metadata": {},
     "output_type": "execute_result"
    }
   ],
   "source": [
    "\n",
    "list1"
   ]
  },
  {
   "cell_type": "code",
   "execution_count": 45,
   "id": "f984fbfd",
   "metadata": {},
   "outputs": [
    {
     "data": {
      "text/plain": [
       "[5, 1]"
      ]
     },
     "execution_count": 45,
     "metadata": {},
     "output_type": "execute_result"
    }
   ],
   "source": [
    "\n",
    "list1"
   ]
  },
  {
   "cell_type": "code",
   "execution_count": 43,
   "id": "4e006b7a",
   "metadata": {},
   "outputs": [],
   "source": [
    "list1.sort(reverse = True)"
   ]
  },
  {
   "cell_type": "code",
   "execution_count": 44,
   "id": "f6d17ccf",
   "metadata": {},
   "outputs": [
    {
     "name": "stdout",
     "output_type": "stream",
     "text": [
      "[5, 1]\n",
      "[5, 1]\n"
     ]
    }
   ],
   "source": [
    "list2=[]\n",
    "print(list1)\n",
    "list2 = list1\n",
    "print(list2)"
   ]
  },
  {
   "cell_type": "code",
   "execution_count": null,
   "id": "6d9896cf",
   "metadata": {},
   "outputs": [],
   "source": [
    "''' \n",
    "fucntions used in list\n",
    ".append()\n",
    ".sort()\n",
    ".copy() ------ used to copy elements of one list to another list\n",
    ".pop() --- removees the last element\n",
    ".reverse()------ reverse the order of the list\n",
    ".index() ----- finds the index of a particular number\n",
    "\n",
    "len(list_name) ----- find the length of the list\n",
    "\n",
    "'''"
   ]
  }
 ],
 "metadata": {
  "kernelspec": {
   "display_name": "Python 3 (ipykernel)",
   "language": "python",
   "name": "python3"
  },
  "language_info": {
   "codemirror_mode": {
    "name": "ipython",
    "version": 3
   },
   "file_extension": ".py",
   "mimetype": "text/x-python",
   "name": "python",
   "nbconvert_exporter": "python",
   "pygments_lexer": "ipython3",
   "version": "3.7.0"
  }
 },
 "nbformat": 4,
 "nbformat_minor": 5
}
